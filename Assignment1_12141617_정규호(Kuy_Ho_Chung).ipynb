{
 "cells": [
  {
   "cell_type": "markdown",
   "metadata": {
    "id": "CvNlnn9A41ei"
   },
   "source": [
    "12141617 정규호\n",
    "# Initialization\n",
    "\n",
    "First, we start from importing some fundamental libraries.\n",
    "'numpy' is used for matrix operations, and scipy.special has been brought to use sigmoid function. Also, we set the value of n_of_epochs, which is the number of trial we would go through for training."
   ]
  },
  {
   "cell_type": "code",
   "execution_count": 1,
   "metadata": {
    "id": "UP69FN4Zu1L2"
   },
   "outputs": [],
   "source": [
    "import numpy as np\n",
    "import scipy.special\n",
    "\n",
    "sigmoid_f = lambda x: scipy.special.expit(x)\n",
    "\n",
    "n_of_epochs = 800"
   ]
  },
  {
   "cell_type": "markdown",
   "metadata": {
    "id": "541Ku2h1x7V4"
   },
   "source": [
    "Below is the input matrix, input."
   ]
  },
  {
   "cell_type": "code",
   "execution_count": 2,
   "metadata": {
    "colab": {
     "base_uri": "https://localhost:8080/",
     "height": 87
    },
    "id": "1lVu_Gb4x-A0",
    "outputId": "ae9bd82d-59df-4053-da77-c619ee185ded"
   },
   "outputs": [
    {
     "name": "stdout",
     "output_type": "stream",
     "text": [
      "(3, 1)\n",
      "[[0.9]\n",
      " [0.1]\n",
      " [0.8]]\n"
     ]
    }
   ],
   "source": [
    "input = np.asarray([[0.9, 0.1, 0.8]]).T\n",
    "print(input.shape)\n",
    "print(input)"
   ]
  },
  {
   "cell_type": "markdown",
   "metadata": {
    "id": "pUVwoXKj842V"
   },
   "source": [
    "We also need to set the target value, which is alrady given."
   ]
  },
  {
   "cell_type": "code",
   "execution_count": 3,
   "metadata": {
    "colab": {
     "base_uri": "https://localhost:8080/",
     "height": 87
    },
    "id": "GFFgD0nb80-j",
    "outputId": "5d66a1dc-c8a7-46bc-9810-e1147da2e0f6"
   },
   "outputs": [
    {
     "name": "stdout",
     "output_type": "stream",
     "text": [
      "(3, 1)\n",
      "[[0.6]\n",
      " [0.8]\n",
      " [0.5]]\n"
     ]
    }
   ],
   "source": [
    "target = np.asarray([[0.6, 0.8, 0.5]]).T\n",
    "print(input.shape)\n",
    "print(target)"
   ]
  },
  {
   "cell_type": "markdown",
   "metadata": {
    "id": "8xF-bUkK1gvb"
   },
   "source": [
    "Below are the given input-hidden weight and hidden-output weight matrices."
   ]
  },
  {
   "cell_type": "code",
   "execution_count": 4,
   "metadata": {
    "colab": {
     "base_uri": "https://localhost:8080/",
     "height": 193
    },
    "id": "qsyrk20u1tSx",
    "outputId": "894eddcc-d30e-453b-cf94-b2f2beb8226b"
   },
   "outputs": [
    {
     "name": "stdout",
     "output_type": "stream",
     "text": [
      "input-hidden weight matrix: \n",
      "(3, 3)\n",
      "[[0.9 0.3 0.4]\n",
      " [0.2 0.8 0.2]\n",
      " [0.1 0.5 0.6]]\n",
      "hidden-output weight matrix: \n",
      "(3, 3)\n",
      "[[0.3 0.7 0.5]\n",
      " [0.6 0.5 0.2]\n",
      " [0.8 0.1 0.9]]\n"
     ]
    }
   ],
   "source": [
    "W_input_hidden = np.asarray(\n",
    "    [[.9,.3,.4],\n",
    "    [.2,.8,.2],\n",
    "    [.1,.5,.6]])\n",
    "\n",
    "W_hidden_output = np.asarray(\n",
    "    [[.3,.7,.5],\n",
    "    [.6,.5,.2],\n",
    "    [.8,.1,.9]])\n",
    "\n",
    "print(\"input-hidden weight matrix: \")\n",
    "print(W_input_hidden.shape)\n",
    "print(W_input_hidden)\n",
    "print(\"hidden-output weight matrix: \")\n",
    "print(W_hidden_output.shape)\n",
    "print(W_hidden_output)"
   ]
  },
  {
   "cell_type": "markdown",
   "metadata": {
    "id": "ay0znakj7ENj"
   },
   "source": [
    "#Forward Pass.\n",
    "Below shows how we get the output, from our input through hidden and output layers."
   ]
  },
  {
   "cell_type": "code",
   "execution_count": 5,
   "metadata": {
    "colab": {
     "base_uri": "https://localhost:8080/",
     "height": 298
    },
    "id": "38pVEQOv7Lf8",
    "outputId": "69d53d9b-34a7-43ec-b20c-c8df32fe040e"
   },
   "outputs": [
    {
     "name": "stdout",
     "output_type": "stream",
     "text": [
      "(3, 1)\n",
      "[[1.16]\n",
      " [0.42]\n",
      " [0.62]]\n",
      "(3, 1)\n",
      "[[0.76133271]\n",
      " [0.60348325]\n",
      " [0.65021855]]\n",
      "(3, 1)\n",
      "[[0.97594736]\n",
      " [0.88858496]\n",
      " [1.25461119]]\n",
      "(3, 1)\n",
      "[[0.72630335]\n",
      " [0.70859807]\n",
      " [0.77809706]]\n"
     ]
    }
   ],
   "source": [
    "X_hidden = np.dot(W_input_hidden,input)\n",
    "print(X_hidden.shape)\n",
    "print(X_hidden)\n",
    "\n",
    "O_hidden = sigmoid_f(X_hidden)\n",
    "print(O_hidden.shape)\n",
    "print(O_hidden)\n",
    "\n",
    "X_output = np.dot(W_hidden_output,O_hidden)\n",
    "print(X_output.shape)\n",
    "print(X_output)\n",
    "\n",
    "O_output = sigmoid_f(X_output)\n",
    "print(O_output.shape)\n",
    "print(O_output)"
   ]
  },
  {
   "cell_type": "markdown",
   "metadata": {
    "id": "XTgeem159j70"
   },
   "source": [
    "O_Output is our output we get before we start training."
   ]
  },
  {
   "cell_type": "markdown",
   "metadata": {
    "id": "6eEhOnu5-AQF"
   },
   "source": [
    "# Training.\n",
    "We go through training by using the for loop. For every single step, we would first go through forward pass, and get the O_output value. Then, we would go through backward pass to correct our weight, in reference to the target we have setted at the beginning. For every 100th training, we would display the error, which should be decreasing as we go through."
   ]
  },
  {
   "cell_type": "code",
   "execution_count": 6,
   "metadata": {
    "colab": {
     "base_uri": "https://localhost:8080/",
     "height": 334
    },
    "id": "a356btZR-jCE",
    "outputId": "133beb88-b17a-4f9b-a61d-b5d302623a6d"
   },
   "outputs": [
    {
     "name": "stdout",
     "output_type": "stream",
     "text": [
      "Training starts: \n",
      "Epoch:  0\n",
      "Error:  '0.10164482186273150754\n",
      "Epoch:  100\n",
      "Error:  '0.02874270152474771994\n",
      "Epoch:  200\n",
      "Error:  '0.00818382347184943779\n",
      "Epoch:  300\n",
      "Error:  '0.00238255045948206935\n",
      "Epoch:  400\n",
      "Error:  '0.00072638309733187622\n",
      "Epoch:  500\n",
      "Error:  '0.00023677841254063172\n",
      "Epoch:  600\n",
      "Error:  '0.00008255096463840735\n",
      "Epoch:  700\n",
      "Error:  '0.00003036070385132342\n",
      "Training has been finished.\n"
     ]
    }
   ],
   "source": [
    "print(\"Training starts: \")\n",
    "\n",
    "for epoch in range (n_of_epochs):\n",
    "\n",
    "  # forward pass: we set the new O_output value\n",
    "  X_hidden = np.dot(W_input_hidden, input)\n",
    "  O_hidden = sigmoid_f(X_hidden)\n",
    "  X_output = np.dot(W_hidden_output,O_hidden)\n",
    "  O_output = sigmoid_f(X_output)\n",
    "\n",
    "  # backward pass: we correct our weight through error\n",
    "  output_error = target - O_output\n",
    "  hidden_error = np.dot(W_hidden_output.T, output_error)\n",
    "  W_hidden_output += .1 * np.dot(output_error * O_output * (1 - O_output), O_hidden.T)\n",
    "  W_input_hidden += .1 * np.dot(hidden_error * O_hidden * (1 - O_hidden), input.T)\n",
    "\n",
    "  # display current error for each 100th cycle\n",
    "  if epoch % 100 == 0:\n",
    "    print(\"Epoch: \", epoch)\n",
    "    total_error = np.sum(output_error ** 2)\n",
    "    print(\"Error: \", \"'{0:.20f}\".format(total_error))\n",
    "\n",
    "print(\"Training has been finished.\")\n",
    "  "
   ]
  },
  {
   "cell_type": "markdown",
   "metadata": {
    "id": "E9ILIG0dAHeH"
   },
   "source": [
    "After we go through the training, we need to go through forward pass once more to display our result, which is our last step."
   ]
  },
  {
   "cell_type": "code",
   "execution_count": 7,
   "metadata": {
    "colab": {
     "base_uri": "https://localhost:8080/",
     "height": 87
    },
    "id": "kuDwk5NKAR-c",
    "outputId": "298402eb-e017-4e3d-ad4c-62e4867c2c7a"
   },
   "outputs": [
    {
     "name": "stdout",
     "output_type": "stream",
     "text": [
      "Output after training:  \n",
      " [[0.60127786]\n",
      " [0.79691272]\n",
      " [0.5006452 ]]\n"
     ]
    }
   ],
   "source": [
    "# forward pass: we set the enew O_output value\n",
    "X_hidden = np.dot(W_input_hidden, input)\n",
    "O_hidden = sigmoid_f(X_hidden)\n",
    "X_output = np.dot(W_hidden_output,O_hidden)\n",
    "O_output = sigmoid_f(X_output)\n",
    "\n",
    "print (\"Output after training:  \\n\", O_output)\n",
    "\n",
    "\n"
   ]
  },
  {
   "cell_type": "markdown",
   "metadata": {
    "id": "aKovj9JDB0Od"
   },
   "source": [
    "For last, we display our final value of weight matrices."
   ]
  },
  {
   "cell_type": "code",
   "execution_count": 8,
   "metadata": {
    "colab": {
     "base_uri": "https://localhost:8080/",
     "height": 193
    },
    "id": "r9MudCjhB-yx",
    "outputId": "82b41734-095c-4f05-ffc9-e2d37748653f"
   },
   "outputs": [
    {
     "name": "stdout",
     "output_type": "stream",
     "text": [
      "Input-hidden Weight martix: \n",
      "(3, 3)\n",
      "[[ 0.81474342  0.29052705  0.32421638]\n",
      " [ 0.40407065  0.82267452  0.38139613]\n",
      " [-0.49263378  0.4341518   0.07321442]]\n",
      "Hidden-output Weight matrix: \n",
      "(3, 3)\n",
      "[[-0.00712505  0.43671401  0.28720227]\n",
      " [ 0.91358922  0.77108557  0.4126951 ]\n",
      " [ 0.16012332 -0.44541396  0.45119395]]\n"
     ]
    }
   ],
   "source": [
    "print(\"Input-hidden Weight martix: \" )\n",
    "print(W_input_hidden.shape)\n",
    "print(W_input_hidden)\n",
    "print(\"Hidden-output Weight matrix: \")\n",
    "print(W_hidden_output.shape)\n",
    "print(W_hidden_output)"
   ]
  },
  {
   "cell_type": "markdown",
   "metadata": {
    "id": "KYwxQsGLCiCf"
   },
   "source": [
    "#Experimenting with different weights, inputs, and targets\n",
    "Based on the codes I have written above, I changed some values and ran the code again to see how the result changes."
   ]
  },
  {
   "cell_type": "markdown",
   "metadata": {
    "id": "GzbCAVe5Dfxc"
   },
   "source": [
    "#Experiment 1: Different weight\n",
    "\n",
    "I have changed the two weight matrices randomly by using numpy.random.rand(shape). The result may be different every time when I run the code."
   ]
  },
  {
   "cell_type": "code",
   "execution_count": 10,
   "metadata": {
    "colab": {
     "base_uri": "https://localhost:8080/",
     "height": 650
    },
    "id": "19hNv-H7CyJx",
    "outputId": "da397fb2-ac36-4889-c1ce-70c15251fd0e"
   },
   "outputs": [
    {
     "name": "stdout",
     "output_type": "stream",
     "text": [
      "Randomly generated input-hidden matrix weight matrix: \n",
      "[[0.25856874 0.34034678 0.74968644]\n",
      " [0.78472518 0.63019084 0.3751744 ]\n",
      " [0.1418984  0.67593364 0.49655729]]\n",
      "Randomly generated hidden-output matrix weight matrix: \n",
      "[[0.76254675 0.72639746 0.70151726]\n",
      " [0.85765498 0.92271215 0.17449829]\n",
      " [0.64248408 0.12480646 0.32400829]]\n",
      "Initial output: \n",
      "[[0.8219154 ]\n",
      " [0.80267792]\n",
      " [0.68002367]]\n",
      "Training starts: \n",
      "Epoch:  0\n",
      "Error:  '0.08166213975512984224\n",
      "Epoch:  100\n",
      "Error:  '0.02175169415739490464\n",
      "Epoch:  200\n",
      "Error:  '0.00700935674072052789\n",
      "Epoch:  300\n",
      "Error:  '0.00248947515880421424\n",
      "Epoch:  400\n",
      "Error:  '0.00091174075722192370\n",
      "Epoch:  500\n",
      "Error:  '0.00033776505445539979\n",
      "Epoch:  600\n",
      "Error:  '0.00012619987659757582\n",
      "Epoch:  700\n",
      "Error:  '0.00004757664364586418\n",
      "Training has been finished.\n",
      "Output after training:  \n",
      " [[0.60306294]\n",
      " [0.79715243]\n",
      " [0.50078087]]\n",
      "Input-hidden Weight martix: \n",
      "(3, 3)\n",
      "[[-0.20929704  0.28836169  0.33380575]\n",
      " [ 0.66959218  0.61739828  0.27283396]\n",
      " [-0.32334093  0.62424038  0.08301122]]\n",
      "Hidden-output Weight matrix: \n",
      "(3, 3)\n",
      "[[ 0.30895545  0.17498335  0.28657052]\n",
      " [ 0.95716565  1.04974989  0.26492601]\n",
      " [ 0.32201422 -0.25498823  0.03011729]]\n"
     ]
    }
   ],
   "source": [
    "input = np.asarray([[0.9, 0.1, 0.8]]).T\n",
    "target = np.asarray([[0.6, 0.8, 0.5]]).T\n",
    "\n",
    "W_input_hidden = np.random.rand(3,3)\n",
    "W_hidden_output = np.random.rand(3,3)\n",
    "\n",
    "print(\"Randomly generated input-hidden matrix weight matrix: \")\n",
    "print(W_input_hidden)\n",
    "print(\"Randomly generated hidden-output matrix weight matrix: \")\n",
    "print(W_hidden_output)\n",
    "\n",
    "X_hidden = np.dot(W_input_hidden,input)\n",
    "O_hidden = sigmoid_f(X_hidden)\n",
    "X_output = np.dot(W_hidden_output,O_hidden)\n",
    "O_output = sigmoid_f(X_output)\n",
    "\n",
    "print(\"Initial output: \")\n",
    "print(O_output)\n",
    "\n",
    "print(\"Training starts: \")\n",
    "\n",
    "for epoch in range (n_of_epochs):\n",
    "\n",
    "  # forward pass: we set the new O_output value\n",
    "  X_hidden = np.dot(W_input_hidden, input)\n",
    "  O_hidden = sigmoid_f(X_hidden)\n",
    "  X_output = np.dot(W_hidden_output,O_hidden)\n",
    "  O_output = sigmoid_f(X_output)\n",
    "\n",
    "  # backward pass: we correct our weight through error\n",
    "  output_error = target - O_output\n",
    "  hidden_error = np.dot(W_hidden_output.T, output_error)\n",
    "  W_hidden_output += .1 * np.dot(output_error * O_output * (1 - O_output), O_hidden.T)\n",
    "  W_input_hidden += .1 * np.dot(hidden_error * O_hidden * (1 - O_hidden), input.T)\n",
    "\n",
    "  # display current error for each 100th cycle\n",
    "  if epoch % 100 == 0:\n",
    "    print(\"Epoch: \", epoch)\n",
    "    total_error = np.sum(output_error ** 2)\n",
    "    print(\"Error: \", \"'{0:.20f}\".format(total_error))\n",
    "\n",
    "print(\"Training has been finished.\")\n",
    "\n",
    "# forward pass: we set the enew O_output value\n",
    "X_hidden = np.dot(W_input_hidden, input)\n",
    "O_hidden = sigmoid_f(X_hidden)\n",
    "X_output = np.dot(W_hidden_output,O_hidden)\n",
    "O_output = sigmoid_f(X_output)\n",
    "\n",
    "print (\"Output after training:  \\n\", O_output)\n",
    "\n",
    "print(\"Input-hidden Weight martix: \" )\n",
    "print(W_input_hidden.shape)\n",
    "print(W_input_hidden)\n",
    "print(\"Hidden-output Weight matrix: \")\n",
    "print(W_hidden_output.shape)\n",
    "print(W_hidden_output)"
   ]
  },
  {
   "cell_type": "code",
   "execution_count": null,
   "metadata": {
    "id": "S_MJ3AcPFJh1"
   },
   "outputs": [],
   "source": []
  },
  {
   "cell_type": "markdown",
   "metadata": {
    "id": "7KGf5Yj2EGeY"
   },
   "source": [
    "Interestingly enough, the initial O_output value differs a lot from our original weight, or even every single time when we run the code. However, after going through 800 cycles of training, the output's value is very close to our target value, or the output value from our original weight matrices. This implies that our training system has been succesfully functioning."
   ]
  },
  {
   "cell_type": "markdown",
   "metadata": {
    "id": "B-1lrlaYE61J"
   },
   "source": [
    "#Experiment 2: Different input\n",
    "I have fixed the weight matrices and target, but changed the input matrix. Again, I randomly generated the input matrix."
   ]
  },
  {
   "cell_type": "code",
   "execution_count": 11,
   "metadata": {
    "colab": {
     "base_uri": "https://localhost:8080/",
     "height": 721
    },
    "id": "vYp_y1_rFKOD",
    "outputId": "6dc9e4d2-3e04-4958-9289-db92e7d05c06"
   },
   "outputs": [
    {
     "name": "stdout",
     "output_type": "stream",
     "text": [
      "Randomly generated input: \n",
      "[[0.38465427]\n",
      " [0.8284854 ]\n",
      " [0.88610112]]\n",
      "Initial output: \n",
      "[[0.74656296]\n",
      " [0.71816416]\n",
      " [0.78640294]]\n",
      "Training starts: \n",
      "Epoch:  0\n",
      "Error:  '0.11020445146796310765\n",
      "Epoch:  100\n",
      "Error:  '0.02717157701188997049\n",
      "Epoch:  200\n",
      "Error:  '0.00676868746632634365\n",
      "Epoch:  300\n",
      "Error:  '0.00180773046281030745\n",
      "Epoch:  400\n",
      "Error:  '0.00051957287522118724\n",
      "Epoch:  500\n",
      "Error:  '0.00016087081953215790\n",
      "Epoch:  600\n",
      "Error:  '0.00005305165295596080\n",
      "Epoch:  700\n",
      "Error:  '0.00001830992764087414\n",
      "Training has been finished.\n",
      "Output after training:  \n",
      " [[0.6008425 ]\n",
      " [0.79765313]\n",
      " [0.50053898]]\n",
      "Input-hidden Weight martix: \n",
      "(3, 3)\n",
      "[[ 0.83122133  0.15186147  0.2415594 ]\n",
      " [ 0.26339817  0.93654979  0.34604593]\n",
      " [-0.12486857  0.01566812  0.08198602]]\n",
      "Hidden-output Weight matrix: \n",
      "(3, 3)\n",
      "[[ 0.00475043  0.37457834  0.23371182]\n",
      " [ 0.85030618  0.77910693  0.42143363]\n",
      " [ 0.25994631 -0.49279243  0.40854103]]\n"
     ]
    }
   ],
   "source": [
    "input = np.random.rand(3,1)\n",
    "target = np.asarray([[0.6, 0.8, 0.5]]).T\n",
    "\n",
    "print(\"Randomly generated input: \")\n",
    "print(input)\n",
    "\n",
    "W_input_hidden = np.asarray(\n",
    "    [[.9,.3,.4],\n",
    "    [.2,.8,.2],\n",
    "    [.1,.5,.6]])\n",
    "\n",
    "W_hidden_output = np.asarray(\n",
    "    [[.3,.7,.5],\n",
    "    [.6,.5,.2],\n",
    "    [.8,.1,.9]])\n",
    "\n",
    "X_hidden = np.dot(W_input_hidden,input)\n",
    "O_hidden = sigmoid_f(X_hidden)\n",
    "X_output = np.dot(W_hidden_output,O_hidden)\n",
    "O_output = sigmoid_f(X_output)\n",
    "\n",
    "print(\"Initial output: \")\n",
    "print(O_output)\n",
    "\n",
    "print(\"Training starts: \")\n",
    "\n",
    "for epoch in range (n_of_epochs):\n",
    "\n",
    "  # forward pass: we set the new O_output value\n",
    "  X_hidden = np.dot(W_input_hidden, input)\n",
    "  O_hidden = sigmoid_f(X_hidden)\n",
    "  X_output = np.dot(W_hidden_output,O_hidden)\n",
    "  O_output = sigmoid_f(X_output)\n",
    "\n",
    "  # backward pass: we correct our weight through error\n",
    "  output_error = target - O_output\n",
    "  hidden_error = np.dot(W_hidden_output.T, output_error)\n",
    "  W_hidden_output += .1 * np.dot(output_error * O_output * (1 - O_output), O_hidden.T)\n",
    "  W_input_hidden += .1 * np.dot(hidden_error * O_hidden * (1 - O_hidden), input.T)\n",
    "\n",
    "  # display current error for each 100th cycle\n",
    "  if epoch % 100 == 0:\n",
    "    print(\"Epoch: \", epoch)\n",
    "    total_error = np.sum(output_error ** 2)\n",
    "    print(\"Error: \", \"'{0:.20f}\".format(total_error))\n",
    "\n",
    "print(\"Training has been finished.\")\n",
    "\n",
    "# forward pass: we set the enew O_output value\n",
    "X_hidden = np.dot(W_input_hidden, input)\n",
    "O_hidden = sigmoid_f(X_hidden)\n",
    "X_output = np.dot(W_hidden_output,O_hidden)\n",
    "O_output = sigmoid_f(X_output)\n",
    "\n",
    "print (\"Output after training:  \\n\", O_output)\n",
    "\n",
    "print(\"Input-hidden Weight martix: \" )\n",
    "print(W_input_hidden.shape)\n",
    "print(W_input_hidden)\n",
    "print(\"Hidden-output Weight matrix: \")\n",
    "print(W_hidden_output.shape)\n",
    "print(W_hidden_output)"
   ]
  },
  {
   "cell_type": "markdown",
   "metadata": {
    "id": "aSkCrQPfFhkL"
   },
   "source": [
    "Once again, The initial output's value is very different by every time we run the code, but the output after training is very close to the target value."
   ]
  },
  {
   "cell_type": "markdown",
   "metadata": {
    "id": "h0cMZesEF5Tm"
   },
   "source": [
    "#Experiment 3: Different Target\n",
    "This time, every other values are fixed, but the target matrix's value would be randomly generated."
   ]
  },
  {
   "cell_type": "code",
   "execution_count": 12,
   "metadata": {
    "colab": {
     "base_uri": "https://localhost:8080/",
     "height": 721
    },
    "id": "4Kflf484GDUT",
    "outputId": "23e26a7d-0dbf-432e-cf28-096652c84d3d"
   },
   "outputs": [
    {
     "name": "stdout",
     "output_type": "stream",
     "text": [
      "Randomly generated target: \n",
      "[[0.6812411 ]\n",
      " [0.98631202]\n",
      " [0.20572492]]\n",
      "Initial output: \n",
      "[[0.72630335]\n",
      " [0.70859807]\n",
      " [0.77809706]]\n",
      "Training starts: \n",
      "Epoch:  0\n",
      "Error:  '0.40676551080385836556\n",
      "Epoch:  100\n",
      "Error:  '0.10566668416048097257\n",
      "Epoch:  200\n",
      "Error:  '0.02780403522545799727\n",
      "Epoch:  300\n",
      "Error:  '0.01140903483851967749\n",
      "Epoch:  400\n",
      "Error:  '0.00636286920830421779\n",
      "Epoch:  500\n",
      "Error:  '0.00423497939985790356\n",
      "Epoch:  600\n",
      "Error:  '0.00311696088213403661\n",
      "Epoch:  700\n",
      "Error:  '0.00243255512540117716\n",
      "Training has been finished.\n",
      "Output after training:  \n",
      " [[0.68448449]\n",
      " [0.94205669]\n",
      " [0.20617446]]\n",
      "Input-hidden Weight martix: \n",
      "(3, 3)\n",
      "[[1.61164226 0.37907136 1.03257089]\n",
      " [1.43220599 0.93691178 1.29529422]\n",
      " [0.08422577 0.49824731 0.58597846]]\n",
      "Hidden-output Weight matrix: \n",
      "(3, 3)\n",
      "[[ 0.09233761  0.49365222  0.36799084]\n",
      " [ 1.34354564  1.21979071  0.69183512]\n",
      " [-0.4396117  -1.08213337  0.07078537]]\n"
     ]
    }
   ],
   "source": [
    "input = np.asarray([[0.9, 0.1, 0.8]]).T\n",
    "target = np.random.rand(3,1)\n",
    "\n",
    "print(\"Randomly generated target: \")\n",
    "print(target)\n",
    "\n",
    "W_input_hidden = np.asarray(\n",
    "    [[.9,.3,.4],\n",
    "    [.2,.8,.2],\n",
    "    [.1,.5,.6]])\n",
    "\n",
    "W_hidden_output = np.asarray(\n",
    "    [[.3,.7,.5],\n",
    "    [.6,.5,.2],\n",
    "    [.8,.1,.9]])\n",
    "\n",
    "X_hidden = np.dot(W_input_hidden,input)\n",
    "O_hidden = sigmoid_f(X_hidden)\n",
    "X_output = np.dot(W_hidden_output,O_hidden)\n",
    "O_output = sigmoid_f(X_output)\n",
    "\n",
    "print(\"Initial output: \")\n",
    "print(O_output)\n",
    "\n",
    "print(\"Training starts: \")\n",
    "\n",
    "for epoch in range (n_of_epochs):\n",
    "\n",
    "  # forward pass: we set the new O_output value\n",
    "  X_hidden = np.dot(W_input_hidden, input)\n",
    "  O_hidden = sigmoid_f(X_hidden)\n",
    "  X_output = np.dot(W_hidden_output,O_hidden)\n",
    "  O_output = sigmoid_f(X_output)\n",
    "\n",
    "  # backward pass: we correct our weight through error\n",
    "  output_error = target - O_output\n",
    "  hidden_error = np.dot(W_hidden_output.T, output_error)\n",
    "  W_hidden_output += .1 * np.dot(output_error * O_output * (1 - O_output), O_hidden.T)\n",
    "  W_input_hidden += .1 * np.dot(hidden_error * O_hidden * (1 - O_hidden), input.T)\n",
    "\n",
    "  # display current error for each 100th cycle\n",
    "  if epoch % 100 == 0:\n",
    "    print(\"Epoch: \", epoch)\n",
    "    total_error = np.sum(output_error ** 2)\n",
    "    print(\"Error: \", \"'{0:.20f}\".format(total_error))\n",
    "\n",
    "print(\"Training has been finished.\")\n",
    "\n",
    "# forward pass: we set the enew O_output value\n",
    "X_hidden = np.dot(W_input_hidden, input)\n",
    "O_hidden = sigmoid_f(X_hidden)\n",
    "X_output = np.dot(W_hidden_output,O_hidden)\n",
    "O_output = sigmoid_f(X_output)\n",
    "\n",
    "print (\"Output after training:  \\n\", O_output)\n",
    "\n",
    "print(\"Input-hidden Weight martix: \" )\n",
    "print(W_input_hidden.shape)\n",
    "print(W_input_hidden)\n",
    "print(\"Hidden-output Weight matrix: \")\n",
    "print(W_hidden_output.shape)\n",
    "print(W_hidden_output)"
   ]
  },
  {
   "cell_type": "markdown",
   "metadata": {
    "id": "ToSvoHkxGwNi"
   },
   "source": [
    "This time, I could find an interesting result. By the value of the random target, especially if there is a big gap between the input and the target, the error may be not corrected as much as other cases. I could find some case when the error is still around 10^-3 after 700 rounds of learning. Therefore, I tried again with 4000 cycles of learning."
   ]
  },
  {
   "cell_type": "code",
   "execution_count": 13,
   "metadata": {
    "colab": {
     "base_uri": "https://localhost:8080/",
     "height": 721
    },
    "id": "j1UZQ622HfT2",
    "outputId": "8f7b0ab1-7db1-4a2f-f412-1cddea3467a9"
   },
   "outputs": [
    {
     "name": "stdout",
     "output_type": "stream",
     "text": [
      "Randomly generated target: \n",
      "[[0.21594298]\n",
      " [0.95333917]\n",
      " [0.77472169]]\n",
      "Initial output: \n",
      "[[0.72630335]\n",
      " [0.70859807]\n",
      " [0.77809706]]\n",
      "Training starts: \n",
      "Epoch:  0\n",
      "Error:  '0.32037729997627778511\n",
      "Epoch:  500\n",
      "Error:  '0.00211456596426962866\n",
      "Epoch:  1000\n",
      "Error:  '0.00041544777580558817\n",
      "Epoch:  1500\n",
      "Error:  '0.00013568249066956038\n",
      "Epoch:  2000\n",
      "Error:  '0.00005288969015148259\n",
      "Epoch:  2500\n",
      "Error:  '0.00002262416281637387\n",
      "Epoch:  3000\n",
      "Error:  '0.00001021979120810672\n",
      "Epoch:  3500\n",
      "Error:  '0.00000477664742038318\n",
      "Training has been finished.\n",
      "Output after training:  \n",
      " [[0.21586571]\n",
      " [0.95183258]\n",
      " [0.77480508]]\n",
      "Input-hidden Weight martix: \n",
      "(3, 3)\n",
      "[[1.85131743 0.40570194 1.24561549]\n",
      " [1.07063744 0.89673749 0.97389995]\n",
      " [0.73446878 0.57049653 1.16397225]]\n",
      "Hidden-output Weight matrix: \n",
      "(3, 3)\n",
      "[[-0.870158   -0.13779952 -0.42395235]\n",
      " [ 1.40158789  1.11068079  0.84962621]\n",
      " [ 0.64688292 -0.02262967  0.77359401]]\n"
     ]
    }
   ],
   "source": [
    "input = np.asarray([[0.9, 0.1, 0.8]]).T\n",
    "target = np.random.rand(3,1)\n",
    "\n",
    "print(\"Randomly generated target: \")\n",
    "print(target)\n",
    "\n",
    "W_input_hidden = np.asarray(\n",
    "    [[.9,.3,.4],\n",
    "    [.2,.8,.2],\n",
    "    [.1,.5,.6]])\n",
    "\n",
    "W_hidden_output = np.asarray(\n",
    "    [[.3,.7,.5],\n",
    "    [.6,.5,.2],\n",
    "    [.8,.1,.9]])\n",
    "\n",
    "X_hidden = np.dot(W_input_hidden,input)\n",
    "O_hidden = sigmoid_f(X_hidden)\n",
    "X_output = np.dot(W_hidden_output,O_hidden)\n",
    "O_output = sigmoid_f(X_output)\n",
    "\n",
    "print(\"Initial output: \")\n",
    "print(O_output)\n",
    "\n",
    "print(\"Training starts: \")\n",
    "\n",
    "new_n_of_epochs = 4000\n",
    "for epoch in range (new_n_of_epochs):\n",
    "\n",
    "  # forward pass: we set the new O_output value\n",
    "  X_hidden = np.dot(W_input_hidden, input)\n",
    "  O_hidden = sigmoid_f(X_hidden)\n",
    "  X_output = np.dot(W_hidden_output,O_hidden)\n",
    "  O_output = sigmoid_f(X_output)\n",
    "\n",
    "  # backward pass: we correct our weight through error\n",
    "  output_error = target - O_output\n",
    "  hidden_error = np.dot(W_hidden_output.T, output_error)\n",
    "  W_hidden_output += .1 * np.dot(output_error * O_output * (1 - O_output), O_hidden.T)\n",
    "  W_input_hidden += .1 * np.dot(hidden_error * O_hidden * (1 - O_hidden), input.T)\n",
    "\n",
    "  # display current error for each 100th cycle\n",
    "  if epoch % 500 == 0:\n",
    "    print(\"Epoch: \", epoch)\n",
    "    total_error = np.sum(output_error ** 2)\n",
    "    print(\"Error: \", \"'{0:.20f}\".format(total_error))\n",
    "\n",
    "print(\"Training has been finished.\")\n",
    "\n",
    "# forward pass: we set the enew O_output value\n",
    "X_hidden = np.dot(W_input_hidden, input)\n",
    "O_hidden = sigmoid_f(X_hidden)\n",
    "X_output = np.dot(W_hidden_output,O_hidden)\n",
    "O_output = sigmoid_f(X_output)\n",
    "\n",
    "print (\"Output after training:  \\n\", O_output)\n",
    "\n",
    "print(\"Input-hidden Weight martix: \" )\n",
    "print(W_input_hidden.shape)\n",
    "print(W_input_hidden)\n",
    "print(\"Hidden-output Weight matrix: \")\n",
    "print(W_hidden_output.shape)\n",
    "print(W_hidden_output)"
   ]
  },
  {
   "cell_type": "markdown",
   "metadata": {
    "id": "DXR8jQO-H1xH"
   },
   "source": [
    "More learning means more precision. After I increased the number of learning cycle by 5 times, the precision of the result has been increased dramatically."
   ]
  },
  {
   "cell_type": "markdown",
   "metadata": {
    "id": "otEcPSOvIV_5"
   },
   "source": [
    "#Experiment 4: Different Weight, Input, Target All Combined\n",
    "In extra, I have combined all three experiments altogether to observer if the learning process works well in any situation. I have setted the number of learning cycles by 2000."
   ]
  },
  {
   "cell_type": "code",
   "execution_count": 14,
   "metadata": {
    "colab": {
     "base_uri": "https://localhost:8080/",
     "height": 932
    },
    "id": "8Ae-wMiKItT2",
    "outputId": "a0c63c6f-944d-4a70-a1c5-cb565bd258c2"
   },
   "outputs": [
    {
     "name": "stdout",
     "output_type": "stream",
     "text": [
      "Randomly generated input: \n",
      "[[0.56412686]\n",
      " [0.53232055]\n",
      " [0.70905796]]\n",
      "Randomly generated target: \n",
      "[[0.18460154]\n",
      " [0.26310916]\n",
      " [0.12548221]]\n",
      "Randomly generated input-hidden matrix weight matrix: \n",
      "[[0.46034506 0.07657937 0.70664769]\n",
      " [0.63725002 0.04246923 0.69604317]\n",
      " [0.32939981 0.58879895 0.41933725]]\n",
      "Randomly generated hidden-output matrix weight matrix: \n",
      "[[0.804401   0.2152195  0.53559772]\n",
      " [0.33275194 0.24216947 0.91707961]\n",
      " [0.67540112 0.99687395 0.01842379]]\n",
      "Initial output: \n",
      "[[0.74580467]\n",
      " [0.73744694]\n",
      " [0.76542142]]\n",
      "Training starts: \n",
      "Epoch:  0\n",
      "Error:  '0.94946746568151718648\n",
      "Epoch:  250\n",
      "Error:  '0.04488506398786715201\n",
      "Epoch:  500\n",
      "Error:  '0.00230684831901999815\n",
      "Epoch:  750\n",
      "Error:  '0.00031183544776476152\n",
      "Epoch:  1000\n",
      "Error:  '0.00006648503588547696\n",
      "Epoch:  1250\n",
      "Error:  '0.00001688849365638088\n",
      "Epoch:  1500\n",
      "Error:  '0.00000461911361180893\n",
      "Epoch:  1750\n",
      "Error:  '0.00000130529279146624\n",
      "Training has been finished.\n",
      "Output after training:  \n",
      " [[0.18449548]\n",
      " [0.26304728]\n",
      " [0.12608151]]\n",
      "Input-hidden Weight martix: \n",
      "(3, 3)\n",
      "[[ 0.10821419 -0.25569783  0.26405009]\n",
      " [ 0.89696897  0.28754484  1.0224871 ]\n",
      " [ 0.91434066  1.14075996  1.15455657]]\n",
      "Hidden-output Weight matrix: \n",
      "(3, 3)\n",
      "[[-0.11364481 -0.97943031 -0.73522217]\n",
      " [-0.45747344 -0.78844471 -0.18085389]\n",
      " [-0.43136991 -0.45928615 -1.53340797]]\n"
     ]
    }
   ],
   "source": [
    "input = np.random.rand(3,1)\n",
    "target = np.random.rand(3,1)\n",
    "\n",
    "print(\"Randomly generated input: \")\n",
    "print(input)\n",
    "print(\"Randomly generated target: \")\n",
    "print(target)\n",
    "\n",
    "W_input_hidden = np.random.rand(3,3)\n",
    "W_hidden_output = np.random.rand(3,3)\n",
    "\n",
    "print(\"Randomly generated input-hidden matrix weight matrix: \")\n",
    "print(W_input_hidden)\n",
    "print(\"Randomly generated hidden-output matrix weight matrix: \")\n",
    "print(W_hidden_output)\n",
    "\n",
    "X_hidden = np.dot(W_input_hidden,input)\n",
    "O_hidden = sigmoid_f(X_hidden)\n",
    "X_output = np.dot(W_hidden_output,O_hidden)\n",
    "O_output = sigmoid_f(X_output)\n",
    "\n",
    "print(\"Initial output: \")\n",
    "print(O_output)\n",
    "\n",
    "print(\"Training starts: \")\n",
    "\n",
    "new_n_of_epochs = 2000\n",
    "for epoch in range (new_n_of_epochs):\n",
    "\n",
    "  # forward pass: we set the new O_output value\n",
    "  X_hidden = np.dot(W_input_hidden, input)\n",
    "  O_hidden = sigmoid_f(X_hidden)\n",
    "  X_output = np.dot(W_hidden_output,O_hidden)\n",
    "  O_output = sigmoid_f(X_output)\n",
    "\n",
    "  # backward pass: we correct our weight through error\n",
    "  output_error = target - O_output\n",
    "  hidden_error = np.dot(W_hidden_output.T, output_error)\n",
    "  W_hidden_output += .1 * np.dot(output_error * O_output * (1 - O_output), O_hidden.T)\n",
    "  W_input_hidden += .1 * np.dot(hidden_error * O_hidden * (1 - O_hidden), input.T)\n",
    "\n",
    "  # display current error for each 100th cycle\n",
    "  if epoch % 250 == 0:\n",
    "    print(\"Epoch: \", epoch)\n",
    "    total_error = np.sum(output_error ** 2)\n",
    "    print(\"Error: \", \"'{0:.20f}\".format(total_error))\n",
    "\n",
    "print(\"Training has been finished.\")\n",
    "\n",
    "# forward pass: we set the enew O_output value\n",
    "X_hidden = np.dot(W_input_hidden, input)\n",
    "O_hidden = sigmoid_f(X_hidden)\n",
    "X_output = np.dot(W_hidden_output,O_hidden)\n",
    "O_output = sigmoid_f(X_output)\n",
    "\n",
    "print (\"Output after training:  \\n\", O_output)\n",
    "\n",
    "print(\"Input-hidden Weight martix: \" )\n",
    "print(W_input_hidden.shape)\n",
    "print(W_input_hidden)\n",
    "print(\"Hidden-output Weight matrix: \")\n",
    "print(W_hidden_output.shape)\n",
    "print(W_hidden_output)"
   ]
  },
  {
   "cell_type": "markdown",
   "metadata": {
    "id": "oR85-2BnJMko"
   },
   "source": [
    "#Summary\n",
    "Through this assignment, I have learned how neural network's learing process works, based on matrix multiplication. Preciesly, the forward pass and the backward pass were the most important part of the learning process. As the input data goes through each layers, the output became closer and closer to the target value, along with correcting the weight matrices. It was interesting how the system works regardless of the input, target, or weight value."
   ]
  },
  {
   "cell_type": "code",
   "execution_count": null,
   "metadata": {},
   "outputs": [],
   "source": []
  }
 ],
 "metadata": {
  "colab": {
   "collapsed_sections": [],
   "name": "Assignment1_12141617_정규호(Kuy Ho Chung).ipynb",
   "provenance": []
  },
  "kernelspec": {
   "display_name": "Python 3",
   "language": "python",
   "name": "python3"
  },
  "language_info": {
   "codemirror_mode": {
    "name": "ipython",
    "version": 3
   },
   "file_extension": ".py",
   "mimetype": "text/x-python",
   "name": "python",
   "nbconvert_exporter": "python",
   "pygments_lexer": "ipython3",
   "version": "3.7.9"
  }
 },
 "nbformat": 4,
 "nbformat_minor": 1
}
