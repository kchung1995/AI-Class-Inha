{
  "nbformat": 4,
  "nbformat_minor": 0,
  "metadata": {
    "colab": {
      "name": "Copy of Untitled0.ipynb",
      "provenance": [],
      "collapsed_sections": []
    },
    "kernelspec": {
      "name": "python3",
      "display_name": "Python 3"
    }
  },
  "cells": [
    {
      "cell_type": "code",
      "metadata": {
        "id": "Yh61eIGfN6lo"
      },
      "source": [
        ""
      ],
      "execution_count": null,
      "outputs": []
    },
    {
      "cell_type": "code",
      "metadata": {
        "id": "FN0td-zMxioA"
      },
      "source": [
        "import csv\n",
        "import numpy as np\n",
        "import matplotlib.pyplot as plt\n",
        "%matplotlib inline\n",
        "\n",
        "from keras.models import Sequential\n",
        "from keras.layers import Dense, Dropout, Activation, Flatten\n",
        "from keras.layers import Conv2D, MaxPooling2D, BatchNormalization\n",
        "from keras.losses import categorical_crossentropy\n",
        "from keras.optimizers import Adam\n",
        "from keras.regularizers import l2\n",
        "from sklearn.model_selection import train_test_split"
      ],
      "execution_count": null,
      "outputs": []
    },
    {
      "cell_type": "code",
      "metadata": {
        "id": "r1SawJ5aN7IA"
      },
      "source": [
        ""
      ],
      "execution_count": null,
      "outputs": []
    },
    {
      "cell_type": "code",
      "metadata": {
        "id": "I_WxH0dmxkzP"
      },
      "source": [
        "fer2013_dataset_file_path = 'fer2013.csv'"
      ],
      "execution_count": null,
      "outputs": []
    },
    {
      "cell_type": "code",
      "metadata": {
        "id": "yWKlKWUmxkw-"
      },
      "source": [
        "train_images = []\n",
        "train_labels = []\n",
        "\n",
        "val_images = []\n",
        "val_labels = []\n",
        "\n",
        "test_images = []\n",
        "test_labels = []\n",
        "\n",
        "with open(fer2013_dataset_file_path) as csv_file:\n",
        "  csv_reader = csv.reader(csv_file, delimiter=',')\n",
        "  for row_id, row in enumerate(csv_reader):\n",
        "    if row_id == 0:\n",
        "      continue\n",
        "    label = np.zeros(7)\n",
        "    label[int(row[0])] = 1\n",
        "\n",
        "    image = list(map(int, row[1].split(' ')))\n",
        "    \n",
        "    if row[2] == 'Training':\n",
        "      train_labels.append(label)\n",
        "      train_images.append(image)\n",
        "    elif row[2] == 'PrivateTest':\n",
        "      test_labels.append(label)\n",
        "      test_images.append(image)\n",
        "    elif row[2] == 'PublicTest':\n",
        "      val_labels.append(label)\n",
        "      val_images.append(image)\n",
        "\n",
        "train_labels = np.asarray(train_labels, dtype=np.float32)\n",
        "train_images = np.asarray(train_images, dtype=np.float32).reshape(-1, 48, 48, 1)\n",
        "\n",
        "val_labels = np.asarray(val_labels, dtype=np.float32)\n",
        "val_images = np.asarray(val_images, dtype=np.float32).reshape(-1, 48, 48, 1)\n",
        "\n",
        "test_labels = np.asarray(test_labels, dtype=np.float32)\n",
        "test_images = np.asarray(test_images, dtype=np.float32).reshape(-1, 48, 48, 1)\n"
      ],
      "execution_count": null,
      "outputs": []
    },
    {
      "cell_type": "code",
      "metadata": {
        "id": "PClDA3PExku0",
        "colab": {
          "base_uri": "https://localhost:8080/"
        },
        "outputId": "29a5cd13-6b8c-4050-e4d1-db0c3366af90"
      },
      "source": [
        "print('Train images:', train_images.shape)\n",
        "print('Train labels:', train_labels.shape)\n",
        "\n",
        "print('Val images:', val_images.shape)\n",
        "print('Val labels:', val_labels.shape)\n",
        "\n",
        "print('Test images:', test_images.shape)\n",
        "print('Test labels:', test_labels.shape)"
      ],
      "execution_count": null,
      "outputs": [
        {
          "output_type": "stream",
          "text": [
            "Train images: (28709, 48, 48, 1)\n",
            "Train labels: (28709, 7)\n",
            "Val images: (3589, 48, 48, 1)\n",
            "Val labels: (3589, 7)\n",
            "Test images: (3589, 48, 48, 1)\n",
            "Test labels: (3589, 7)\n"
          ],
          "name": "stdout"
        }
      ]
    },
    {
      "cell_type": "code",
      "metadata": {
        "id": "y01HTLVFxkri"
      },
      "source": [
        "# normalization\n",
        "train_images /= 255\n",
        "val_images /= 255\n",
        "test_images /= 255"
      ],
      "execution_count": null,
      "outputs": []
    },
    {
      "cell_type": "code",
      "metadata": {
        "id": "qDVE1HN81u6E"
      },
      "source": [
        ""
      ],
      "execution_count": null,
      "outputs": []
    },
    {
      "cell_type": "markdown",
      "metadata": {
        "id": "FgZwcqlF1wGm"
      },
      "source": [
        "Print Data Instance"
      ]
    },
    {
      "cell_type": "code",
      "metadata": {
        "id": "FSVn4EiW1yCy"
      },
      "source": [
        "emotions = {\n",
        "    0: 'Angry', \n",
        "    1: 'Disgust',\n",
        "    2: 'Fear', \n",
        "    3: 'Happy',\n",
        "    4: 'Sad', \n",
        "    5: 'Surprise', \n",
        "    6: 'Neutral'\n",
        "}"
      ],
      "execution_count": null,
      "outputs": []
    },
    {
      "cell_type": "code",
      "metadata": {
        "id": "GAKK_t2_1yt5",
        "colab": {
          "base_uri": "https://localhost:8080/",
          "height": 337
        },
        "outputId": "9fe6151a-df53-4c3c-e7cc-97b8a5b976b0"
      },
      "source": [
        "index = 15\n",
        "print('Label array:', train_labels[index], '\\nLabel:', np.argmax(train_labels[index]),\n",
        "      '\\nEmotion:', emotions[np.argmax(train_labels[index])],\n",
        "      '\\nImage shape:', train_images[index].shape)\n",
        "plt.imshow(train_images[index].reshape(48, 48), cmap='gray')\n",
        "plt.show()"
      ],
      "execution_count": null,
      "outputs": [
        {
          "output_type": "stream",
          "text": [
            "Label array: [0. 0. 0. 0. 0. 1. 0.] \n",
            "Label: 5 \n",
            "Emotion: Surprise \n",
            "Image shape: (48, 48, 1)\n"
          ],
          "name": "stdout"
        },
        {
          "output_type": "display_data",
          "data": {
            "image/png": "[encoded data removed]",
            "text/plain": [
              "<Figure size 432x288 with 1 Axes>"
            ]
          },
          "metadata": {
            "tags": [],
            "needs_background": "light"
          }
        }
      ]
    },
    {
      "cell_type": "code",
      "metadata": {
        "id": "ll1MEjIs1y3d"
      },
      "source": [
        ""
      ],
      "execution_count": null,
      "outputs": []
    },
    {
      "cell_type": "code",
      "metadata": {
        "id": "vbMu5QO-Om62"
      },
      "source": [
        ""
      ],
      "execution_count": null,
      "outputs": []
    },
    {
      "cell_type": "code",
      "metadata": {
        "id": "JOjJx5ioOm9k"
      },
      "source": [
        "train_history = model.fit(train_images, \n",
        "                          train_labels, \n",
        "                          batch_size=batch_size, \n",
        "                          epochs=epochs, \n",
        "                          validation_data=(val_images, val_labels), verbose=1)"
      ],
      "execution_count": null,
      "outputs": []
    },
    {
      "cell_type": "code",
      "metadata": {
        "id": "Tsxo1EzP2_tB"
      },
      "source": [
        "loss, accuracy = model.evaluate(test_images, test_labels, verbose=1)\n",
        "print('Loss:', loss, '\\nAccuracy:', accuracy * 100, '%')"
      ],
      "execution_count": null,
      "outputs": []
    },
    {
      "cell_type": "code",
      "metadata": {
        "id": "oSO1qbJi2_q5"
      },
      "source": [
        ""
      ],
      "execution_count": null,
      "outputs": []
    },
    {
      "cell_type": "code",
      "metadata": {
        "id": "A74vFZlq2_oa"
      },
      "source": [
        ""
      ],
      "execution_count": null,
      "outputs": []
    },
    {
      "cell_type": "code",
      "metadata": {
        "id": "9T8_Seee2_kL"
      },
      "source": [
        ""
      ],
      "execution_count": null,
      "outputs": []
    },
    {
      "cell_type": "code",
      "metadata": {
        "id": "jX4-qyPt1yzL"
      },
      "source": [
        ""
      ],
      "execution_count": null,
      "outputs": []
    }
  ]
}