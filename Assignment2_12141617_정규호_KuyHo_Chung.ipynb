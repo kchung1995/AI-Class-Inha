{
 "cells": [
  {
   "cell_type": "markdown",
   "metadata": {
    "id": "ktU-zKqWmuZN"
   },
   "source": [
    "#12141617 정규호   \n",
    "I basically refered to the codes we have gone through during the class.   \n",
    "However, I tried to read and write the codes by myself, understand and explain what is happening throughout the progress.   \n",
    "\"imports\", \"prepare data\" codes have been brought from the class' example, since these are not the key parts of implementing handwritten digits classifier."
   ]
  },
  {
   "cell_type": "markdown",
   "metadata": {
    "id": "PYtA-QnzmBy4"
   },
   "source": [
    "#Imports"
   ]
  },
  {
   "cell_type": "code",
   "execution_count": 1,
   "metadata": {
    "id": "9DlvxuEXhvNz"
   },
   "outputs": [],
   "source": [
    "import numpy as np\n",
    "from tensorflow import keras\n",
    "from tensorflow.keras import layers\n",
    "import matplotlib.pyplot as plt\n",
    "%matplotlib inline"
   ]
  },
  {
   "cell_type": "markdown",
   "metadata": {
    "id": "y28Ht8imnQZM"
   },
   "source": [
    "Imported some essential libraries for this homework.   \n",
    "Numpy is used for manipulating dataset numerically.   \n",
    "Keras has been imported to use machine learning libraries.   \n",
    "Matplotlib has been imported to visualise handwritten digits and statistics about the result.   \n"
   ]
  },
  {
   "cell_type": "markdown",
   "metadata": {
    "id": "i4l1Kk07mHh3"
   },
   "source": [
    "#Prepare Data"
   ]
  },
  {
   "cell_type": "code",
   "execution_count": 2,
   "metadata": {
    "colab": {
     "base_uri": "https://localhost:8080/",
     "height": 70
    },
    "id": "bO5RzPvkmJds",
    "outputId": "25aca717-37b9-4fde-fed6-23dfec48051a"
   },
   "outputs": [
    {
     "name": "stdout",
     "output_type": "stream",
     "text": [
      "x_train shape: (60000, 28, 28, 1)\n",
      "60000 train samples\n",
      "10000 test samples\n"
     ]
    }
   ],
   "source": [
    "# Model / data parameters\n",
    "num_classes = 10\n",
    "input_shape = (28, 28, 1)\n",
    "\n",
    "# the data, split between train and test sets\n",
    "(x_train, y_train), (x_test, y_test) = keras.datasets.mnist.load_data()\n",
    "\n",
    "# Scale images to the [0, 1] range\n",
    "x_train = x_train.astype(\"float32\") / 255\n",
    "x_test = x_test.astype(\"float32\") / 255\n",
    "# Make sure images have shape (28, 28, 1)\n",
    "x_train = np.expand_dims(x_train, -1)\n",
    "x_test = np.expand_dims(x_test, -1)\n",
    "print(\"x_train shape:\", x_train.shape)\n",
    "print(x_train.shape[0], \"train samples\")\n",
    "print(x_test.shape[0], \"test samples\")\n",
    "\n",
    "# convert class vectors to binary class matrices\n",
    "y_train = keras.utils.to_categorical(y_train, num_classes)\n",
    "y_test = keras.utils.to_categorical(y_test, num_classes)"
   ]
  },
  {
   "cell_type": "markdown",
   "metadata": {
    "id": "GHhVZ_e_oGft"
   },
   "source": [
    "The train datasets and test datasets have been brought from keras library. They are called MNIST dataset. These have been saved to x_train, y_train, x_test, and y_test.   \n",
    "Next, the x components of datasets have been scaled through numpy, adding dimension to the dataset.   \n",
    "Then, I have printed the shape of data set, and then printed the number of train and test samples we have from MNIST.   \n",
    "At last, I have converted the y components of datasets from class vectors to binary class matrices."
   ]
  },
  {
   "cell_type": "markdown",
   "metadata": {
    "id": "3b4i27UOmP4E"
   },
   "source": [
    "#Make Model"
   ]
  },
  {
   "cell_type": "code",
   "execution_count": 3,
   "metadata": {
    "id": "YkThyB5rmRR3"
   },
   "outputs": [
    {
     "name": "stdout",
     "output_type": "stream",
     "text": [
      "Model: \"sequential\"\n",
      "_________________________________________________________________\n",
      "Layer (type)                 Output Shape              Param #   \n",
      "=================================================================\n",
      "conv2d (Conv2D)              (None, 26, 26, 32)        320       \n",
      "_________________________________________________________________\n",
      "max_pooling2d (MaxPooling2D) (None, 13, 13, 32)        0         \n",
      "_________________________________________________________________\n",
      "conv2d_1 (Conv2D)            (None, 11, 11, 64)        18496     \n",
      "_________________________________________________________________\n",
      "max_pooling2d_1 (MaxPooling2 (None, 5, 5, 64)          0         \n",
      "_________________________________________________________________\n",
      "flatten (Flatten)            (None, 1600)              0         \n",
      "_________________________________________________________________\n",
      "dropout (Dropout)            (None, 1600)              0         \n",
      "_________________________________________________________________\n",
      "dense (Dense)                (None, 10)                16010     \n",
      "=================================================================\n",
      "Total params: 34,826\n",
      "Trainable params: 34,826\n",
      "Non-trainable params: 0\n",
      "_________________________________________________________________\n"
     ]
    }
   ],
   "source": [
    "model = keras.Sequential(\n",
    "    [\n",
    "        keras.Input(shape=input_shape),\n",
    "        layers.Conv2D(32, kernel_size=(3, 3), activation=\"relu\"),\n",
    "        layers.MaxPooling2D(pool_size=(2, 2)),\n",
    "        layers.Conv2D(64, kernel_size=(3, 3), activation=\"relu\"),\n",
    "        layers.MaxPooling2D(pool_size=(2, 2)),\n",
    "        layers.Flatten(),\n",
    "        layers.Dropout(0.5),\n",
    "        layers.Dense(num_classes, activation=\"softmax\"),\n",
    "    ]\n",
    ")\n",
    "\n",
    "model.summary()"
   ]
  },
  {
   "cell_type": "markdown",
   "metadata": {
    "id": "ZdUtfPjZpZr4"
   },
   "source": [
    "This is the step where we are building the learning model.   \n",
    "These mostly use layers, imported from keras.   \n",
    "To be honest, I still do not understand the logic here completely, so I have gone through the documentation: https://keras.io/guides/sequential_model/, and had to follow based on what we have gone through during the class.   \n",
    "Conv2D is usually used on 2-dimensional images or videos. Since we are dealing with 2D images, using Conv2D is suitable.   \n",
    "Dense is used to make layers for our training model.      \n",
    "At last, we print the summary of the model we have created."
   ]
  },
  {
   "cell_type": "markdown",
   "metadata": {
    "id": "s-DFHMh4mToU"
   },
   "source": [
    "#Setting Training Parameter and Training"
   ]
  },
  {
   "cell_type": "code",
   "execution_count": 4,
   "metadata": {
    "id": "jlYC3Gl5mX3e"
   },
   "outputs": [
    {
     "name": "stdout",
     "output_type": "stream",
     "text": [
      "Train on 54000 samples, validate on 6000 samples\n",
      "Epoch 1/15\n",
      "54000/54000 [==============================] - 4s 83us/sample - loss: 0.3846 - accuracy: 0.8823 - val_loss: 0.0855 - val_accuracy: 0.9763\n",
      "Epoch 2/15\n",
      "54000/54000 [==============================] - 2s 35us/sample - loss: 0.1164 - accuracy: 0.9643 - val_loss: 0.0589 - val_accuracy: 0.9825\n",
      "Epoch 3/15\n",
      "54000/54000 [==============================] - 2s 36us/sample - loss: 0.0858 - accuracy: 0.9738 - val_loss: 0.0480 - val_accuracy: 0.9852\n",
      "Epoch 4/15\n",
      "54000/54000 [==============================] - 2s 36us/sample - loss: 0.0715 - accuracy: 0.9778 - val_loss: 0.0438 - val_accuracy: 0.9877\n",
      "Epoch 5/15\n",
      "54000/54000 [==============================] - 2s 35us/sample - loss: 0.0638 - accuracy: 0.9806 - val_loss: 0.0391 - val_accuracy: 0.9902\n",
      "Epoch 6/15\n",
      "54000/54000 [==============================] - 2s 35us/sample - loss: 0.0569 - accuracy: 0.9824 - val_loss: 0.0357 - val_accuracy: 0.9898\n",
      "Epoch 7/15\n",
      "54000/54000 [==============================] - 2s 35us/sample - loss: 0.0521 - accuracy: 0.9839 - val_loss: 0.0341 - val_accuracy: 0.9908\n",
      "Epoch 8/15\n",
      "54000/54000 [==============================] - 2s 35us/sample - loss: 0.0486 - accuracy: 0.9849 - val_loss: 0.0325 - val_accuracy: 0.9912\n",
      "Epoch 9/15\n",
      "54000/54000 [==============================] - 2s 37us/sample - loss: 0.0459 - accuracy: 0.9856 - val_loss: 0.0305 - val_accuracy: 0.9908\n",
      "Epoch 10/15\n",
      "54000/54000 [==============================] - 2s 37us/sample - loss: 0.0425 - accuracy: 0.9864 - val_loss: 0.0301 - val_accuracy: 0.9923\n",
      "Epoch 11/15\n",
      "54000/54000 [==============================] - 2s 36us/sample - loss: 0.0409 - accuracy: 0.9866 - val_loss: 0.0334 - val_accuracy: 0.9910\n",
      "Epoch 12/15\n",
      "54000/54000 [==============================] - 2s 36us/sample - loss: 0.0400 - accuracy: 0.9873 - val_loss: 0.0295 - val_accuracy: 0.9908\n",
      "Epoch 13/15\n",
      "54000/54000 [==============================] - 2s 36us/sample - loss: 0.0366 - accuracy: 0.9879 - val_loss: 0.0304 - val_accuracy: 0.9915\n",
      "Epoch 14/15\n",
      "54000/54000 [==============================] - 2s 36us/sample - loss: 0.0354 - accuracy: 0.9884 - val_loss: 0.0288 - val_accuracy: 0.9915\n",
      "Epoch 15/15\n",
      "54000/54000 [==============================] - 2s 36us/sample - loss: 0.0338 - accuracy: 0.9888 - val_loss: 0.0293 - val_accuracy: 0.9920\n"
     ]
    }
   ],
   "source": [
    "batch_size = 128\n",
    "epochs = 15\n",
    "\n",
    "model.compile(loss=\"categorical_crossentropy\", \n",
    "              optimizer=\"adam\", \n",
    "              metrics=[\"accuracy\"])\n",
    "\n",
    "history = model.fit(x_train, y_train, \n",
    "                    batch_size=batch_size, \n",
    "                    epochs=epochs, \n",
    "                    validation_split=0.1)"
   ]
  },
  {
   "cell_type": "markdown",
   "metadata": {
    "id": "B80BCA4gqgo8"
   },
   "source": [
    "This is the step where we compile our model.   \n",
    "We use model.compile to compile the model. The parameters are optimizer, loss, metrices, loss_weights, sample_weight_mode, weighted_matrices, and target_tensors; we only used the first three among them.   \n",
    "history uses the train set data to train our model. It uses the batch size and epochs as we initialized at the top of this code block.   \n",
    "Since the model has to learn through the training dataset, it takes a bit of time to finish its 15th epoch."
   ]
  },
  {
   "cell_type": "markdown",
   "metadata": {
    "id": "70AKZe61mh42"
   },
   "source": [
    "#Performance Evaluation on Test Set"
   ]
  },
  {
   "cell_type": "code",
   "execution_count": 5,
   "metadata": {
    "id": "CQKDotGVmlkk"
   },
   "outputs": [
    {
     "name": "stdout",
     "output_type": "stream",
     "text": [
      "Test loss: 0.025738364310568432\n",
      "Test accuracy: 0.9906\n"
     ]
    }
   ],
   "source": [
    "score = model.evaluate(x_test, y_test, verbose=0)\n",
    "print(\"Test loss:\", score[0])\n",
    "print(\"Test accuracy:\", score[1])"
   ]
  },
  {
   "cell_type": "markdown",
   "metadata": {
    "id": "l-zWqNmJrebP"
   },
   "source": [
    "We can evaluate our mode through model.evaluate.   \n",
    "The parameters are our test dataset; x_test, y_test, and verbose=0; we have not used the rest of the parameters."
   ]
  },
  {
   "cell_type": "markdown",
   "metadata": {
    "id": "u0dWliFsmod-"
   },
   "source": [
    "#Sample Prediction"
   ]
  },
  {
   "cell_type": "code",
   "execution_count": 6,
   "metadata": {
    "id": "gHsSRy_0mm8n"
   },
   "outputs": [
    {
     "name": "stdout",
     "output_type": "stream",
     "text": [
      "Image shape: (28, 28, 1)\n",
      "True Image Label Array: [0. 0. 0. 0. 0. 0. 0. 1. 0. 0.] \n",
      "True Image Label Shape: (10,) \n",
      "True Image Label: 7\n"
     ]
    },
    {
     "data": {
      "image/png": "[encoded data removed]",
      "text/plain": [
       "<Figure size 432x288 with 1 Axes>"
      ]
     },
     "metadata": {
      "needs_background": "light"
     },
     "output_type": "display_data"
    },
    {
     "name": "stdout",
     "output_type": "stream",
     "text": [
      "Predicted Image Label Array:\n",
      "0.00\n",
      "0.00\n",
      "0.00\n",
      "0.00\n",
      "0.00\n",
      "0.00\n",
      "0.00\n",
      "1.00\n",
      "0.00\n",
      "0.00\n",
      "Predicted Image Label Array: ['0.00', '0.00', '0.00', '0.00', '0.00', '0.00', '0.00', '1.00', '0.00', '0.00'] \n",
      "Predicted Image Label Shape: (1, 10) \n",
      "Predicted Image Label: 7\n"
     ]
    }
   ],
   "source": [
    "img_id = 0\n",
    "\n",
    "sample_test_image = x_test[img_id]\n",
    "sample_test_label = y_test[img_id]\n",
    "\n",
    "print('Image shape:', sample_test_image.shape)\n",
    "print('True Image Label Array:', sample_test_label, \n",
    "      '\\nTrue Image Label Shape:', sample_test_label.shape,\n",
    "      '\\nTrue Image Label:', np.argmax(sample_test_label))\n",
    "plt.imshow(sample_test_image.reshape(28, 28), interpolation='nearest')\n",
    "plt.show()\n",
    "\n",
    "prediction = model.predict(sample_test_image.reshape(1, 28, 28, 1))\n",
    "print('Predicted Image Label Array:')\n",
    "print(*['{0:0.2f}'.format(i) for i in prediction[0]], sep='\\n')\n",
    "print('Predicted Image Label Array:', ['{0:0.2f}'.format(i) for i in prediction[0]],\n",
    "      '\\nPredicted Image Label Shape:', prediction.shape, \n",
    "      '\\nPredicted Image Label:', np.argmax(prediction))"
   ]
  },
  {
   "cell_type": "markdown",
   "metadata": {
    "id": "YGvFx8O2tLYG"
   },
   "source": [
    "Based on the model we made, we can classify a test hadwritten digit, as above. We have a handwritten 7, of which the classifier has correctly recognized."
   ]
  },
  {
   "cell_type": "code",
   "execution_count": 7,
   "metadata": {
    "colab": {
     "base_uri": "https://localhost:8080/",
     "height": 134
    },
    "id": "0DEMxkC_uFuT",
    "outputId": "8a0c65c8-9dc4-4e51-dbe1-3c5cc2eff0e3"
   },
   "outputs": [
    {
     "name": "stdout",
     "output_type": "stream",
     "text": [
      "Image shape: (28, 28, 1)\n",
      "True Image Label Array: [0. 0. 0. 0. 0. 0. 0. 1. 0. 0.] \n",
      "True Image Label Shape: (10,) \n",
      "True Image Label: 7\n"
     ]
    },
    {
     "data": {
      "image/png": "[encoded data removed]",
      "text/plain": [
       "<Figure size 432x288 with 1 Axes>"
      ]
     },
     "metadata": {
      "needs_background": "light"
     },
     "output_type": "display_data"
    },
    {
     "name": "stdout",
     "output_type": "stream",
     "text": [
      "Predicted Image Label Array:\n",
      "0.00\n",
      "0.00\n",
      "0.00\n",
      "0.00\n",
      "0.00\n",
      "0.00\n",
      "0.00\n",
      "1.00\n",
      "0.00\n",
      "0.00\n",
      "Predicted Image Label Array: ['0.00', '0.00', '0.00', '0.00', '0.00', '0.00', '0.00', '1.00', '0.00', '0.00'] \n",
      "Predicted Image Label Shape: (1, 10) \n",
      "Predicted Image Label: 7\n",
      "Image shape: (28, 28, 1)\n",
      "True Image Label Array: [0. 0. 1. 0. 0. 0. 0. 0. 0. 0.] \n",
      "True Image Label Shape: (10,) \n",
      "True Image Label: 2\n"
     ]
    },
    {
     "data": {
      "image/png": "[encoded data removed]",
      "text/plain": [
       "<Figure size 432x288 with 1 Axes>"
      ]
     },
     "metadata": {
      "needs_background": "light"
     },
     "output_type": "display_data"
    },
    {
     "name": "stdout",
     "output_type": "stream",
     "text": [
      "Predicted Image Label Array:\n",
      "0.00\n",
      "0.00\n",
      "1.00\n",
      "0.00\n",
      "0.00\n",
      "0.00\n",
      "0.00\n",
      "0.00\n",
      "0.00\n",
      "0.00\n",
      "Predicted Image Label Array: ['0.00', '0.00', '1.00', '0.00', '0.00', '0.00', '0.00', '0.00', '0.00', '0.00'] \n",
      "Predicted Image Label Shape: (1, 10) \n",
      "Predicted Image Label: 2\n",
      "Image shape: (28, 28, 1)\n",
      "True Image Label Array: [0. 1. 0. 0. 0. 0. 0. 0. 0. 0.] \n",
      "True Image Label Shape: (10,) \n",
      "True Image Label: 1\n"
     ]
    },
    {
     "data": {
      "image/png": "[encoded data removed]",
      "text/plain": [
       "<Figure size 432x288 with 1 Axes>"
      ]
     },
     "metadata": {
      "needs_background": "light"
     },
     "output_type": "display_data"
    },
    {
     "name": "stdout",
     "output_type": "stream",
     "text": [
      "Predicted Image Label Array:\n",
      "0.00\n",
      "1.00\n",
      "0.00\n",
      "0.00\n",
      "0.00\n",
      "0.00\n",
      "0.00\n",
      "0.00\n",
      "0.00\n",
      "0.00\n",
      "Predicted Image Label Array: ['0.00', '1.00', '0.00', '0.00', '0.00', '0.00', '0.00', '0.00', '0.00', '0.00'] \n",
      "Predicted Image Label Shape: (1, 10) \n",
      "Predicted Image Label: 1\n",
      "Image shape: (28, 28, 1)\n",
      "True Image Label Array: [1. 0. 0. 0. 0. 0. 0. 0. 0. 0.] \n",
      "True Image Label Shape: (10,) \n",
      "True Image Label: 0\n"
     ]
    },
    {
     "data": {
      "image/png": "[encoded data removed]",
      "text/plain": [
       "<Figure size 432x288 with 1 Axes>"
      ]
     },
     "metadata": {
      "needs_background": "light"
     },
     "output_type": "display_data"
    },
    {
     "name": "stdout",
     "output_type": "stream",
     "text": [
      "Predicted Image Label Array:\n",
      "1.00\n",
      "0.00\n",
      "0.00\n",
      "0.00\n",
      "0.00\n",
      "0.00\n",
      "0.00\n",
      "0.00\n",
      "0.00\n",
      "0.00\n",
      "Predicted Image Label Array: ['1.00', '0.00', '0.00', '0.00', '0.00', '0.00', '0.00', '0.00', '0.00', '0.00'] \n",
      "Predicted Image Label Shape: (1, 10) \n",
      "Predicted Image Label: 0\n",
      "Image shape: (28, 28, 1)\n",
      "True Image Label Array: [0. 0. 0. 0. 1. 0. 0. 0. 0. 0.] \n",
      "True Image Label Shape: (10,) \n",
      "True Image Label: 4\n"
     ]
    },
    {
     "data": {
      "image/png": "[encoded data removed]",
      "text/plain": [
       "<Figure size 432x288 with 1 Axes>"
      ]
     },
     "metadata": {
      "needs_background": "light"
     },
     "output_type": "display_data"
    },
    {
     "name": "stdout",
     "output_type": "stream",
     "text": [
      "Predicted Image Label Array:\n",
      "0.00\n",
      "0.00\n",
      "0.00\n",
      "0.00\n",
      "1.00\n",
      "0.00\n",
      "0.00\n",
      "0.00\n",
      "0.00\n",
      "0.00\n",
      "Predicted Image Label Array: ['0.00', '0.00', '0.00', '0.00', '1.00', '0.00', '0.00', '0.00', '0.00', '0.00'] \n",
      "Predicted Image Label Shape: (1, 10) \n",
      "Predicted Image Label: 4\n",
      "Image shape: (28, 28, 1)\n",
      "True Image Label Array: [0. 1. 0. 0. 0. 0. 0. 0. 0. 0.] \n",
      "True Image Label Shape: (10,) \n",
      "True Image Label: 1\n"
     ]
    },
    {
     "data": {
      "image/png": "[encoded data removed]",
      "text/plain": [
       "<Figure size 432x288 with 1 Axes>"
      ]
     },
     "metadata": {
      "needs_background": "light"
     },
     "output_type": "display_data"
    },
    {
     "name": "stdout",
     "output_type": "stream",
     "text": [
      "Predicted Image Label Array:\n",
      "0.00\n",
      "1.00\n",
      "0.00\n",
      "0.00\n",
      "0.00\n",
      "0.00\n",
      "0.00\n",
      "0.00\n",
      "0.00\n",
      "0.00\n",
      "Predicted Image Label Array: ['0.00', '1.00', '0.00', '0.00', '0.00', '0.00', '0.00', '0.00', '0.00', '0.00'] \n",
      "Predicted Image Label Shape: (1, 10) \n",
      "Predicted Image Label: 1\n",
      "Image shape: (28, 28, 1)\n",
      "True Image Label Array: [0. 0. 0. 0. 1. 0. 0. 0. 0. 0.] \n",
      "True Image Label Shape: (10,) \n",
      "True Image Label: 4\n"
     ]
    },
    {
     "data": {
      "image/png": "[encoded data removed]",
      "text/plain": [
       "<Figure size 432x288 with 1 Axes>"
      ]
     },
     "metadata": {
      "needs_background": "light"
     },
     "output_type": "display_data"
    },
    {
     "name": "stdout",
     "output_type": "stream",
     "text": [
      "Predicted Image Label Array:\n",
      "0.00\n",
      "0.00\n",
      "0.00\n",
      "0.00\n",
      "1.00\n",
      "0.00\n",
      "0.00\n",
      "0.00\n",
      "0.00\n",
      "0.00\n",
      "Predicted Image Label Array: ['0.00', '0.00', '0.00', '0.00', '1.00', '0.00', '0.00', '0.00', '0.00', '0.00'] \n",
      "Predicted Image Label Shape: (1, 10) \n",
      "Predicted Image Label: 4\n",
      "Image shape: (28, 28, 1)\n",
      "True Image Label Array: [0. 0. 0. 0. 0. 0. 0. 0. 0. 1.] \n",
      "True Image Label Shape: (10,) \n",
      "True Image Label: 9\n"
     ]
    },
    {
     "data": {
      "image/png": "[encoded data removed]",
      "text/plain": [
       "<Figure size 432x288 with 1 Axes>"
      ]
     },
     "metadata": {
      "needs_background": "light"
     },
     "output_type": "display_data"
    },
    {
     "name": "stdout",
     "output_type": "stream",
     "text": [
      "Predicted Image Label Array:\n",
      "0.00\n",
      "0.00\n",
      "0.00\n",
      "0.00\n",
      "0.00\n",
      "0.00\n",
      "0.00\n",
      "0.00\n",
      "0.00\n",
      "1.00\n",
      "Predicted Image Label Array: ['0.00', '0.00', '0.00', '0.00', '0.00', '0.00', '0.00', '0.00', '0.00', '1.00'] \n",
      "Predicted Image Label Shape: (1, 10) \n",
      "Predicted Image Label: 9\n",
      "Image shape: (28, 28, 1)\n",
      "True Image Label Array: [0. 0. 0. 0. 0. 1. 0. 0. 0. 0.] \n",
      "True Image Label Shape: (10,) \n",
      "True Image Label: 5\n"
     ]
    },
    {
     "data": {
      "image/png": "[encoded data removed]",
      "text/plain": [
       "<Figure size 432x288 with 1 Axes>"
      ]
     },
     "metadata": {
      "needs_background": "light"
     },
     "output_type": "display_data"
    },
    {
     "name": "stdout",
     "output_type": "stream",
     "text": [
      "Predicted Image Label Array:\n",
      "0.00\n",
      "0.00\n",
      "0.00\n",
      "0.00\n",
      "0.00\n",
      "1.00\n",
      "0.00\n",
      "0.00\n",
      "0.00\n",
      "0.00\n",
      "Predicted Image Label Array: ['0.00', '0.00', '0.00', '0.00', '0.00', '1.00', '0.00', '0.00', '0.00', '0.00'] \n",
      "Predicted Image Label Shape: (1, 10) \n",
      "Predicted Image Label: 5\n"
     ]
    }
   ],
   "source": [
    "for i in range (0,9):\n",
    "    img_id = i\n",
    "\n",
    "    sample_test_image = x_test[img_id]\n",
    "    sample_test_label = y_test[img_id]\n",
    "\n",
    "    print('Image shape:', sample_test_image.shape)\n",
    "    print('True Image Label Array:', sample_test_label, \n",
    "      '\\nTrue Image Label Shape:', sample_test_label.shape,\n",
    "      '\\nTrue Image Label:', np.argmax(sample_test_label))\n",
    "    plt.imshow(sample_test_image.reshape(28, 28), interpolation='nearest')\n",
    "    plt.show()\n",
    "\n",
    "    prediction = model.predict(sample_test_image.reshape(1, 28, 28, 1))\n",
    "    print('Predicted Image Label Array:')\n",
    "    print(*['{0:0.2f}'.format(i) for i in prediction[0]], sep='\\n')\n",
    "    print('Predicted Image Label Array:', ['{0:0.2f}'.format(i) for i in prediction[0]],\n",
    "      '\\nPredicted Image Label Shape:', prediction.shape, \n",
    "      '\\nPredicted Image Label:', np.argmax(prediction))"
   ]
  },
  {
   "cell_type": "markdown",
   "metadata": {
    "id": "5V5IrRqgu4nj"
   },
   "source": [
    "In order to get more out of our model, I have used a loop to test out some of the test datasets, to see whether the model can correctly classify the number."
   ]
  },
  {
   "cell_type": "markdown",
   "metadata": {
    "id": "8qlrKkOntOw3"
   },
   "source": [
    "#Visualise"
   ]
  },
  {
   "cell_type": "code",
   "execution_count": 8,
   "metadata": {
    "id": "cmQ26YretQ3b"
   },
   "outputs": [
    {
     "name": "stdout",
     "output_type": "stream",
     "text": [
      "dict_keys(['loss', 'accuracy', 'val_loss', 'val_accuracy'])\n"
     ]
    },
    {
     "data": {
      "image/png": "[encoded data removed]",
      "text/plain": [
       "<Figure size 432x288 with 1 Axes>"
      ]
     },
     "metadata": {
      "needs_background": "light"
     },
     "output_type": "display_data"
    },
    {
     "data": {
      "image/png": "[encoded data removed]",
      "text/plain": [
       "<Figure size 432x288 with 1 Axes>"
      ]
     },
     "metadata": {
      "needs_background": "light"
     },
     "output_type": "display_data"
    }
   ],
   "source": [
    "print(history.history.keys())\n",
    "train_accuracy = history.history['accuracy']\n",
    "val_accuracy = history.history['val_accuracy']\n",
    "train_loss = history.history['loss']\n",
    "val_loss = history.history['val_loss']\n",
    "\n",
    "plt.plot(list(range(epochs)), train_accuracy, 'bo', label='Training accuracy')\n",
    "plt.plot(list(range(epochs)), val_accuracy, 'b', label='Validation accuracy')\n",
    "plt.title('Training and validation accuracy')\n",
    "plt.legend()\n",
    "plt.show()\n",
    "\n",
    "plt.figure()\n",
    "plt.plot(list(range(epochs)), train_loss, 'bo', label='Training loss')\n",
    "plt.plot(list(range(epochs)), val_loss, 'b', label='Validation loss')\n",
    "plt.title('Training and validation loss')\n",
    "plt.legend()\n",
    "plt.show()"
   ]
  },
  {
   "cell_type": "markdown",
   "metadata": {
    "id": "qqpJm1LUvGUr"
   },
   "source": [
    "Finally, I have visualised the data through matplotlib. The two graphs show about training and validation; one for accuracy and the other for loss."
   ]
  },
  {
   "cell_type": "markdown",
   "metadata": {
    "id": "UpgsF4dZn02L"
   },
   "source": [
    "#Summary\n",
    "Even though I stil have not completely understood about CNN and handwritten number classifier, I have learned how we can build a model and train it through dataset. What made me surprised is that the model we have used to train can actually used to classify a dataset, even though it is a test data. Going through number classification was very interesting, and I had lots to learn from it."
   ]
  }
 ],
 "metadata": {
  "colab": {
   "name": "Assignmen2_12141617_정규호_KuyHo_Chung.ipynb",
   "provenance": []
  },
  "kernelspec": {
   "display_name": "Python 3",
   "language": "python",
   "name": "python3"
  },
  "language_info": {
   "codemirror_mode": {
    "name": "ipython",
    "version": 3
   },
   "file_extension": ".py",
   "mimetype": "text/x-python",
   "name": "python",
   "nbconvert_exporter": "python",
   "pygments_lexer": "ipython3",
   "version": "3.7.9"
  }
 },
 "nbformat": 4,
 "nbformat_minor": 1
}
